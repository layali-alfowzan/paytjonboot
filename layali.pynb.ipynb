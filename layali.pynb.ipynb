{
  "nbformat": 4,
  "nbformat_minor": 0,
  "metadata": {
    "colab": {
      "name": "Untitled1.ipynb",
      "provenance": []
    },
    "kernelspec": {
      "name": "python3",
      "display_name": "Python 3"
    }
  },
  "cells": [
    {
      "cell_type": "code",
      "metadata": {
        "colab": {
          "base_uri": "https://localhost:8080/"
        },
        "id": "ZZroCXEaZi7S",
        "outputId": "6cbd8ad7-4e42-46d4-f3e0-b835895c3108"
      },
      "source": [
        "3+4"
      ],
      "execution_count": 2,
      "outputs": [
        {
          "output_type": "execute_result",
          "data": {
            "text/plain": [
              "7"
            ]
          },
          "metadata": {
            "tags": []
          },
          "execution_count": 2
        }
      ]
    },
    {
      "cell_type": "code",
      "metadata": {
        "colab": {
          "base_uri": "https://localhost:8080/"
        },
        "id": "utU4yhAWdD59",
        "outputId": "cacc012a-e05f-4abd-f90a-ea71d13783b6"
      },
      "source": [
        "n1 =int(input(\"num1 \"))\r\n",
        "n2=int(input (\"num2\"))\r\n",
        "print(n1+n2)"
      ],
      "execution_count": 4,
      "outputs": [
        {
          "output_type": "stream",
          "text": [
            "num1 3\n",
            "num24\n",
            "7\n"
          ],
          "name": "stdout"
        }
      ]
    }
  ]
}