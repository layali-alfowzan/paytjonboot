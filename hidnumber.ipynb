{
  "nbformat": 4,
  "nbformat_minor": 0,
  "metadata": {
    "colab": {
      "name": "Untitled3.ipynb",
      "provenance": []
    },
    "kernelspec": {
      "name": "python3",
      "display_name": "Python 3"
    }
  },
  "cells": [
    {
      "cell_type": "code",
      "metadata": {
        "colab": {
          "base_uri": "https://localhost:8080/",
          "height": 133
        },
        "id": "5qeH1h6idl4T",
        "outputId": "52afb7e3-11e7-4bb6-fafe-861259b9bf67"
      },
      "source": [
        "import random\r\n",
        "hideNum=random.rendrange(0,11)\r\n",
        "trialNum=int(input(\"enter a number of trail form 1 to 9 or 0\"))\r\n",
        "if trialNum in range(0,10):\r\n",
        "    print(\"you have {} trials\".format(trialNum))\r\n",
        "       else:\r\n",
        "         trialNum=random.rendrange(1,10)\r\n",
        "         print(\"you have {}trials\".format(trialNum))\r\n",
        "        \r\n",
        "    guess = int (input(\"enter your guess from 0 to 10>\"))\r\n",
        "    counter=10\r\n",
        "    while guess != hideNum and counter <trialNum:\r\n",
        "        if guess < hideNum:<hideNum:\r\n",
        "        \r\n",
        "          print(\"too low\")\r\n",
        "        else:\r\n",
        "            print(\"too high\")\r\n",
        "            \r\n",
        "        guess = int(input(\"try again enter a number from 0 to 10\"))  \r\n",
        "        counter=counter+1\r\n",
        "        print(\"your remaining trials=\",trialNum-counter)\r\n",
        "        \r\n",
        "    if guess== hideNum:\r\n",
        "        print(\"great you got the correct number\")\r\n",
        "    else:\r\n",
        "        print(\"game over,the correct number was =\",hideNum)"
      ],
      "execution_count": 5,
      "outputs": [
        {
          "output_type": "error",
          "ename": "IndentationError",
          "evalue": "ignored",
          "traceback": [
            "\u001b[0;36m  File \u001b[0;32m\"<ipython-input-5-6f917db3be71>\"\u001b[0;36m, line \u001b[0;32m6\u001b[0m\n\u001b[0;31m    else:\u001b[0m\n\u001b[0m    ^\u001b[0m\n\u001b[0;31mIndentationError\u001b[0m\u001b[0;31m:\u001b[0m unexpected indent\n"
          ]
        }
      ]
    }
  ]
}